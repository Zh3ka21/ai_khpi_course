{
 "cells": [
  {
   "cell_type": "code",
   "execution_count": 48,
   "id": "fa9d5735-7528-4aff-b26e-5691f8bfa87d",
   "metadata": {},
   "outputs": [],
   "source": [
    "import math\n",
    "import pandas\n",
    "import numpy as np"
   ]
  },
  {
   "cell_type": "code",
   "execution_count": 49,
   "id": "9f09b714-6234-4365-a9da-c76afc977359",
   "metadata": {},
   "outputs": [],
   "source": [
    "input_dim = 3  # кількість вхідних вузлів\n",
    "learning_rate = 0.01  # швидкість навчання\n",
    "Weights = np.random.rand(input_dim)\n",
    "\n",
    "path_to_excel = r\"E:\\KHPI\\AI\\Excel\\Lab4.xlsx\""
   ]
  },
  {
   "cell_type": "code",
   "execution_count": 50,
   "id": "ac7e04ee-0c3c-4025-a705-0040e202a38e",
   "metadata": {},
   "outputs": [],
   "source": [
    "def sigmoid(x):\n",
    "    return 1 / (1 + math.exp(-x))\n",
    "\n",
    "def sigmoid_dt(x):\n",
    "    return sigmoid(x) * (1 - sigmoid(x))"
   ]
  },
  {
   "cell_type": "code",
   "execution_count": 51,
   "id": "6f024f5f-3b04-4495-863e-3e05fa3c9472",
   "metadata": {},
   "outputs": [],
   "source": [
    "Training_Data = pandas.read_excel(path_to_excel)\n",
    "Expected_Output = Training_Data.output\n",
    "Training_Data = Training_Data.drop(['output'], axis=1)\n",
    "Training_Data = np.asarray(Training_Data)\n",
    "training_count = len(Training_Data[:, 0])  # кіл-ть навчальних прикладів"
   ]
  },
  {
   "cell_type": "code",
   "execution_count": 52,
   "id": "13f916ff-d0ae-48af-972c-d9829f4b0572",
   "metadata": {},
   "outputs": [],
   "source": [
    "for epoch in range(10):  # кіл-ть епох\n",
    "    for datum in range(0, training_count):\n",
    "        Output_Sum = np.sum(np.multiply(Training_Data[datum, :], Weights))\n",
    "        Output_Value = sigmoid(Output_Sum)\n",
    "        error = Expected_Output[datum] - Output_Value\n",
    "\n",
    "        for n in range(0, input_dim):\n",
    "            Weights[n] += learning_rate * error * Training_Data[datum, n] * sigmoid_dt(Expected_Output[datum])"
   ]
  },
  {
   "cell_type": "code",
   "execution_count": 53,
   "id": "486dbb04-47fe-48e9-9cf3-c688ac685242",
   "metadata": {},
   "outputs": [
    {
     "name": "stdout",
     "output_type": "stream",
     "text": [
      "w_0 = -0.554\n",
      "w_1 = -0.372\n",
      "w_2 = -0.559\n",
      "Error =  0.15878312943024456\n"
     ]
    }
   ],
   "source": [
    "print(\"w_0 = %.3f\" % (Weights[0]))\n",
    "print(\"w_1 = %.3f\" % (Weights[1]))\n",
    "print(\"w_2 = %.3f\" % (Weights[2]))\n",
    "print(\"Error = \", error)"
   ]
  },
  {
   "cell_type": "code",
   "execution_count": null,
   "id": "df210fc5-e3d6-4a68-b5e7-e4e20ac2c824",
   "metadata": {},
   "outputs": [],
   "source": []
  }
 ],
 "metadata": {
  "kernelspec": {
   "display_name": "Python 3 (ipykernel)",
   "language": "python",
   "name": "python3"
  },
  "language_info": {
   "codemirror_mode": {
    "name": "ipython",
    "version": 3
   },
   "file_extension": ".py",
   "mimetype": "text/x-python",
   "name": "python",
   "nbconvert_exporter": "python",
   "pygments_lexer": "ipython3",
   "version": "3.10.2"
  }
 },
 "nbformat": 4,
 "nbformat_minor": 5
}
